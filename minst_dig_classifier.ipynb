{
  "nbformat": 4,
  "nbformat_minor": 0,
  "metadata": {
    "colab": {
      "provenance": [],
      "authorship_tag": "ABX9TyP+0q3Sk57k82xkRQMfG6MI",
      "include_colab_link": true
    },
    "kernelspec": {
      "name": "python3",
      "display_name": "Python 3"
    },
    "language_info": {
      "name": "python"
    }
  },
  "cells": [
    {
      "cell_type": "markdown",
      "metadata": {
        "id": "view-in-github",
        "colab_type": "text"
      },
      "source": [
        "<a href=\"https://colab.research.google.com/github/mtrtrdev/MNIST_Digit_Classifier/blob/main/minst_dig_classifier.ipynb\" target=\"_parent\"><img src=\"https://colab.research.google.com/assets/colab-badge.svg\" alt=\"Open In Colab\"/></a>"
      ]
    },
    {
      "cell_type": "code",
      "execution_count": 2,
      "metadata": {
        "colab": {
          "base_uri": "https://localhost:8080/"
        },
        "id": "3GHMLH1_LPvL",
        "outputId": "1d118d72-158a-447b-80a9-52bc36ddebfc"
      },
      "outputs": [
        {
          "output_type": "stream",
          "name": "stdout",
          "text": [
            "Epoch 1/5\n",
            "1500/1500 [==============================] - 9s 5ms/step - loss: 0.2643 - accuracy: 0.9222 - val_loss: 0.1422 - val_accuracy: 0.9582\n",
            "Epoch 2/5\n",
            "1500/1500 [==============================] - 9s 6ms/step - loss: 0.1127 - accuracy: 0.9659 - val_loss: 0.1110 - val_accuracy: 0.9663\n",
            "Epoch 3/5\n",
            "1500/1500 [==============================] - 9s 6ms/step - loss: 0.0753 - accuracy: 0.9765 - val_loss: 0.1005 - val_accuracy: 0.9697\n",
            "Epoch 4/5\n",
            "1500/1500 [==============================] - 10s 6ms/step - loss: 0.0584 - accuracy: 0.9817 - val_loss: 0.1013 - val_accuracy: 0.9713\n",
            "Epoch 5/5\n",
            "1500/1500 [==============================] - 9s 6ms/step - loss: 0.0438 - accuracy: 0.9855 - val_loss: 0.0956 - val_accuracy: 0.9722\n",
            "313/313 [==============================] - 1s 3ms/step - loss: 0.0838 - accuracy: 0.9754\n",
            "テスト精度: 0.9753999710083008\n"
          ]
        }
      ],
      "source": [
        "import tensorflow as tf\n",
        "from tensorflow.keras.models import Sequential\n",
        "from tensorflow.keras.layers import Dense\n",
        "from tensorflow.keras.datasets import mnist\n",
        "from tensorflow.keras.utils import to_categorical\n",
        "\n",
        "# MNISTデータセットのロード\n",
        "(x_train, y_train), (x_test, y_test) = mnist.load_data()\n",
        "\n",
        "# データの前処理\n",
        "x_train = x_train.reshape(-1, 28*28).astype('float32') / 255\n",
        "x_test = x_test.reshape(-1, 28*28).astype('float32') / 255\n",
        "\n",
        "# ラベルのカテゴリ変換\n",
        "y_train = to_categorical(y_train, 10)\n",
        "y_test = to_categorical(y_test, 10)\n",
        "\n",
        "# モデルの構築\n",
        "model = Sequential([\n",
        "    Dense(128, activation='relu', input_shape=(784,)),\n",
        "    Dense(64, activation='relu'),\n",
        "    Dense(10, activation='softmax')\n",
        "])\n",
        "\n",
        "# モデルのコンパイル\n",
        "model.compile(optimizer='adam',\n",
        "              loss='categorical_crossentropy',\n",
        "              metrics=['accuracy'])\n",
        "\n",
        "# モデルのトレーニング\n",
        "model.fit(x_train, y_train, epochs=5, batch_size=32, validation_split=0.2)\n",
        "\n",
        "# モデルの評価\n",
        "test_loss, test_acc = model.evaluate(x_test, y_test)\n",
        "print(f'テスト精度: {test_acc}')\n",
        "\n",
        "# モデルを保存\n",
        "model.save('my_model.keras')\n"
      ]
    },
    {
      "cell_type": "code",
      "source": [
        "import cv2\n",
        "import numpy as np\n",
        "from tensorflow.keras.models import load_model\n",
        "\n",
        "# モデルを読み込む\n",
        "model = load_model('my_model.keras')\n",
        "\n",
        "# 画像を読み込む\n",
        "# Check if the image file exists and the path is correct\n",
        "image = cv2.imread('./num_images/num_2.png', cv2.IMREAD_GRAYSCALE)\n",
        "\n",
        "# Check if the image was loaded successfully\n",
        "if image is None:\n",
        "    print(\"Error: Could not load image. Check file path and try again.\")\n",
        "else:\n",
        "\n",
        "    # 画像をリサイズ（28x28ピクセルに変換）\n",
        "    image_resized = cv2.resize(image, (28, 28))\n",
        "\n",
        "    # 明暗を反転させる\n",
        "    inverted_image = 255 - image_resized\n",
        "\n",
        "    # データ型を変換して正規化（0〜1の範囲にスケーリング）\n",
        "    inverted_normalized = inverted_image.astype('float32') / 255.0\n",
        "\n",
        "    # 画像をフラット化 (784,)\n",
        "    inverted_normalized = inverted_normalized.reshape(1, 784) # Reshape to match the expected input shape\n",
        "\n",
        "    # 画像データをモデルに渡して予測\n",
        "    predictions = model.predict(inverted_normalized)\n",
        "\n",
        "    # 最も確率が高い数字を選択\n",
        "    predicted_digit = np.argmax(predictions)\n",
        "\n",
        "    print(f'予測された数字: {predicted_digit}')"
      ],
      "metadata": {
        "colab": {
          "base_uri": "https://localhost:8080/"
        },
        "id": "EfBK1YzjLY2t",
        "outputId": "540477c6-55f2-4b97-9bed-36096a9713dd"
      },
      "execution_count": 18,
      "outputs": [
        {
          "output_type": "stream",
          "name": "stdout",
          "text": [
            "1/1 [==============================] - 0s 85ms/step\n",
            "予測された数字: 2\n"
          ]
        }
      ]
    }
  ]
}